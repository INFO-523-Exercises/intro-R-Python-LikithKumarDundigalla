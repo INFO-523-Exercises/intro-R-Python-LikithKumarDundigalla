{
 "cells": [
  {
   "cell_type": "markdown",
   "id": "c3d5807e",
   "metadata": {},
   "source": [
    "# Intro to Pandas & Numpy"
   ]
  },
  {
   "cell_type": "markdown",
   "id": "5027dff5",
   "metadata": {},
   "source": [
    "By Likith Kumar Dundigalla"
   ]
  },
  {
   "cell_type": "code",
   "execution_count": 1,
   "id": "8c2e97c8",
   "metadata": {},
   "outputs": [
    {
     "name": "stdout",
     "output_type": "stream",
     "text": [
      "[1. 2. 3. 4. 5.]\n",
      "#Dimensions = 1\n",
      "Dimension = (5,)\n",
      "Size = 5\n",
      "Array type = float64 \n",
      "\n",
      "[[1 2]\n",
      " [3 4]\n",
      " [5 6]\n",
      " [7 8]]\n",
      "#Dimensions = 2\n",
      "Dimension = (4, 2)\n",
      "Size = 8\n",
      "Array type = int32 \n",
      "\n",
      "[['1' 'a' '3.0']\n",
      " ['2' 'b' '3.5']]\n",
      "#Dimensions = 2\n",
      "Dimension = (2, 3)\n",
      "Size = 6\n"
     ]
    }
   ],
   "source": [
    "import numpy as np\n",
    "\n",
    "oneDim = np.array([1.0,2,3,4,5])   # a 1-dimensional array (vector)\n",
    "print(oneDim)\n",
    "print(\"#Dimensions =\", oneDim.ndim)\n",
    "print(\"Dimension =\", oneDim.shape)\n",
    "print(\"Size =\", oneDim.size)\n",
    "print(\"Array type =\", oneDim.dtype, '\\n')\n",
    "\n",
    "twoDim = np.array([[1,2],[3,4],[5,6],[7,8]])  # a two-dimensional array (matrix)\n",
    "print(twoDim)\n",
    "print(\"#Dimensions =\", twoDim.ndim)\n",
    "print(\"Dimension =\", twoDim.shape)\n",
    "print(\"Size =\", twoDim.size)\n",
    "print(\"Array type =\", twoDim.dtype, '\\n')\n",
    "\n",
    "arrFromTuple = np.array([(1,'a',3.0),(2,'b',3.5)])  # create ndarray from tuple\n",
    "print(arrFromTuple)\n",
    "print(\"#Dimensions =\", arrFromTuple.ndim)\n",
    "print(\"Dimension =\", arrFromTuple.shape)\n",
    "print(\"Size =\", arrFromTuple.size)"
   ]
  },
  {
   "cell_type": "code",
   "execution_count": 2,
   "id": "4c480f13",
   "metadata": {},
   "outputs": [
    {
     "name": "stdout",
     "output_type": "stream",
     "text": [
      "Array of random numbers from a uniform distribution\n",
      "[0.73747132 0.24197332 0.48844208 0.5852318  0.84791823]\n",
      "\n",
      "Array of random numbers from a normal distribution\n",
      "[ 0.4205086  -0.04211675 -0.05755466 -0.40638565  1.45489487]\n",
      "\n",
      "Array of integers between -10 and 10, with step size of 2\n",
      "[-10  -8  -6  -4  -2   0   2   4   6   8]\n",
      "\n",
      "2-dimensional array of integers from 0 to 11\n",
      "[[ 0  1  2  3]\n",
      " [ 4  5  6  7]\n",
      " [ 8  9 10 11]]\n",
      "\n",
      "Array of values between 0 and 1, split into 10 equally spaced values\n",
      "[0.         0.11111111 0.22222222 0.33333333 0.44444444 0.55555556\n",
      " 0.66666667 0.77777778 0.88888889 1.        ]\n",
      "\n",
      "Array of values from 10^-3 to 10^3\n",
      "[1.e-03 1.e-02 1.e-01 1.e+00 1.e+01 1.e+02 1.e+03]\n"
     ]
    }
   ],
   "source": [
    "print('Array of random numbers from a uniform distribution')\n",
    "print(np.random.rand(5))      # random numbers from a uniform distribution between [0,1]\n",
    "\n",
    "print('\\nArray of random numbers from a normal distribution')\n",
    "print(np.random.randn(5))     # random numbers from a normal distribution\n",
    "\n",
    "print('\\nArray of integers between -10 and 10, with step size of 2')\n",
    "print(np.arange(-10,10,2))    # similar to range, but returns ndarray instead of list\n",
    "\n",
    "print('\\n2-dimensional array of integers from 0 to 11')\n",
    "print(np.arange(12).reshape(3,4))  # reshape to a matrix\n",
    "\n",
    "print('\\nArray of values between 0 and 1, split into 10 equally spaced values')\n",
    "print(np.linspace(0,1,10))    # split interval [0,1] into 10 equally separated values\n",
    "\n",
    "print('\\nArray of values from 10^-3 to 10^3')\n",
    "print(np.logspace(-3,3,7))    # create ndarray with values from 10^-3 to 10^3"
   ]
  },
  {
   "cell_type": "code",
   "execution_count": 3,
   "id": "95a9164f",
   "metadata": {},
   "outputs": [
    {
     "name": "stdout",
     "output_type": "stream",
     "text": [
      "A 2 x 3 matrix of zeros\n",
      "[[0. 0. 0.]\n",
      " [0. 0. 0.]]\n",
      "\n",
      "A 3 x 2 matrix of ones\n",
      "[[1. 1.]\n",
      " [1. 1.]\n",
      " [1. 1.]]\n",
      "\n",
      "A 3 x 3 identity matrix\n",
      "[[1. 0. 0.]\n",
      " [0. 1. 0.]\n",
      " [0. 0. 1.]]\n"
     ]
    }
   ],
   "source": [
    "print('A 2 x 3 matrix of zeros')\n",
    "print(np.zeros((2,3)))        # a matrix of zeros\n",
    "\n",
    "print('\\nA 3 x 2 matrix of ones')\n",
    "print(np.ones((3,2)))         # a matrix of ones\n",
    "\n",
    "print('\\nA 3 x 3 identity matrix')\n",
    "print(np.eye(3))              # a 3 x 3 identity matrix"
   ]
  },
  {
   "cell_type": "code",
   "execution_count": 4,
   "id": "c3b88f44",
   "metadata": {},
   "outputs": [
    {
     "name": "stdout",
     "output_type": "stream",
     "text": [
      "x = [1 2 3 4 5]\n",
      "x + 1 = [2 3 4 5 6]\n",
      "x - 1 = [0 1 2 3 4]\n",
      "x * 2 = [ 2  4  6  8 10]\n",
      "x // 2 = [0 1 1 2 2]\n",
      "x ** 2 = [ 1  4  9 16 25]\n",
      "x % 2 = [1 0 1 0 1]\n",
      "1 / x = [1.         0.5        0.33333333 0.25       0.2       ]\n"
     ]
    }
   ],
   "source": [
    "x = np.array([1,2,3,4,5])\n",
    "\n",
    "print('x =', x)\n",
    "print('x + 1 =', x + 1)      # addition\n",
    "print('x - 1 =', x - 1)      # subtraction\n",
    "print('x * 2 =', x * 2)      # multiplication\n",
    "print('x // 2 =', x // 2)     # integer division\n",
    "print('x ** 2 =', x ** 2)     # square\n",
    "print('x % 2 =', x % 2)      # modulo  \n",
    "print('1 / x =', 1 / x)      # division"
   ]
  },
  {
   "cell_type": "code",
   "execution_count": 5,
   "id": "98d12772",
   "metadata": {},
   "outputs": [
    {
     "name": "stdout",
     "output_type": "stream",
     "text": [
      "x = [ 2  4  6  8 10]\n",
      "y = [1 2 3 4 5]\n",
      "x + y = [ 3  6  9 12 15]\n",
      "x - y = [1 2 3 4 5]\n",
      "x * y = [ 2  8 18 32 50]\n",
      "x / y = [2. 2. 2. 2. 2.]\n",
      "x // y = [2 2 2 2 2]\n",
      "x ** y = [     2     16    216   4096 100000]\n"
     ]
    }
   ],
   "source": [
    "x = np.array([2,4,6,8,10])\n",
    "y = np.array([1,2,3,4,5])\n",
    "\n",
    "print('x =', x)\n",
    "print('y =', y)\n",
    "print('x + y =', x + y)      # element-wise addition\n",
    "print('x - y =', x - y)      # element-wise subtraction\n",
    "print('x * y =', x * y)      # element-wise multiplication \n",
    "print('x / y =', x / y)      # element-wise division\n",
    "print('x // y =', x // y)    # element-wise integer division \n",
    "print('x ** y =', x ** y)    # element-wise exponentiation"
   ]
  },
  {
   "cell_type": "code",
   "execution_count": 6,
   "id": "ec198254",
   "metadata": {},
   "outputs": [
    {
     "name": "stdout",
     "output_type": "stream",
     "text": [
      "Before: x = [-5 -4 -3 -2 -1  0  1  2  3  4]\n",
      "        y = [-2 -1]\n",
      "After : y = [1000 1000]\n",
      "        x = [  -5   -4   -3 1000 1000    0    1    2    3    4] \n",
      "\n",
      "Before: x = [  -5   -4   -3 1000 1000    0    1    2    3    4]\n",
      "        z = [1000 1000]\n",
      "After : z = [500 500]\n",
      "        x = [  -5   -4   -3 1000 1000    0    1    2    3    4]\n"
     ]
    }
   ],
   "source": [
    "x = np.arange(-5,5)\n",
    "print('Before: x =', x)\n",
    "\n",
    "y = x[3:5]     # y is a slice, i.e., pointer to a subarray in x\n",
    "print('        y =', y)\n",
    "y[:] = 1000    # modifying the value of y will change x\n",
    "print('After : y =', y)\n",
    "print('        x =', x, '\\n')\n",
    "\n",
    "z = x[3:5].copy()   # makes a copy of the subarray\n",
    "print('Before: x =', x)\n",
    "print('        z =', z)\n",
    "z[:] = 500          # modifying the value of z will not affect x\n",
    "print('After : z =', z)\n",
    "print('        x =', x)"
   ]
  },
  {
   "cell_type": "code",
   "execution_count": 7,
   "id": "d41d5983",
   "metadata": {},
   "outputs": [
    {
     "name": "stdout",
     "output_type": "stream",
     "text": [
      "my2dlist = [[1, 2, 3, 4], [5, 6, 7, 8], [9, 10, 11, 12]]\n",
      "my2dlist[2] = [9, 10, 11, 12]\n",
      "my2dlist[:][2] = [9, 10, 11, 12]\n",
      "\n",
      "my2darr =\n",
      " [[ 1  2  3  4]\n",
      " [ 5  6  7  8]\n",
      " [ 9 10 11 12]]\n",
      "my2darr[2][:] = [ 9 10 11 12]\n",
      "my2darr[2,:] = [ 9 10 11 12]\n",
      "my2darr[:][2] = [ 9 10 11 12]\n",
      "my2darr[:,2] = [ 3  7 11]\n",
      "my2darr[:2,2:] =\n",
      " [[3 4]\n",
      " [7 8]]\n"
     ]
    }
   ],
   "source": [
    "my2dlist = [[1,2,3,4],[5,6,7,8],[9,10,11,12]]  # a 2-dim list\n",
    "print('my2dlist =', my2dlist)\n",
    "print('my2dlist[2] =', my2dlist[2])            # access the third sublist\n",
    "print('my2dlist[:][2] =', my2dlist[:][2])      # can't access third element of each sublist\n",
    "# print('my2dlist[:,2] =', my2dlist[:,2])      # invalid way to access sublist, will cause syntax error\n",
    "\n",
    "my2darr = np.array(my2dlist)\n",
    "print('\\nmy2darr =\\n', my2darr)\n",
    "\n",
    "print('my2darr[2][:] =', my2darr[2][:])      # access the third row\n",
    "print('my2darr[2,:] =', my2darr[2,:])        # access the third row\n",
    "print('my2darr[:][2] =', my2darr[:][2])      # access the third row (similar to 2d list)\n",
    "print('my2darr[:,2] =', my2darr[:,2])        # access the third column\n",
    "print('my2darr[:2,2:] =\\n', my2darr[:2,2:])     # access the first two rows & last two columns"
   ]
  },
  {
   "cell_type": "code",
   "execution_count": 8,
   "id": "53121ab0",
   "metadata": {},
   "outputs": [
    {
     "name": "stdout",
     "output_type": "stream",
     "text": [
      "my2darr =\n",
      " [[ 1  2  3  4]\n",
      " [ 5  6  7  8]\n",
      " [ 9 10 11 12]]\n",
      "\n",
      "my2darr[my2darr % 3 == 0] = [ 3  6  9 12]\n",
      "my2darr[2:, my2darr[2,:] % 3 == 0] = [[ 9 12]]\n"
     ]
    }
   ],
   "source": [
    "my2darr = np.arange(1,13,1).reshape(3,4)\n",
    "print('my2darr =\\n', my2darr)\n",
    "\n",
    "divBy3 = my2darr[my2darr % 3 == 0]\n",
    "print('\\nmy2darr[my2darr % 3 == 0] =', divBy3)            # returns all the elements divisible by 3 in an ndarray\n",
    "\n",
    "divBy3LastRow = my2darr[2:, my2darr[2,:] % 3 == 0]\n",
    "print('my2darr[2:, my2darr[2,:] % 3 == 0] =', divBy3LastRow)    # returns elements in the last row divisible by 3"
   ]
  },
  {
   "cell_type": "code",
   "execution_count": 9,
   "id": "f1f8191f",
   "metadata": {},
   "outputs": [
    {
     "name": "stdout",
     "output_type": "stream",
     "text": [
      "my2darr =\n",
      " [[ 1  2  3]\n",
      " [ 4  5  6]\n",
      " [ 7  8  9]\n",
      " [10 11 12]]\n",
      "indices = [2, 1, 0, 3] \n",
      "\n",
      "my2darr[indices,:] =\n",
      " [[ 7  8  9]\n",
      " [ 4  5  6]\n",
      " [ 1  2  3]\n",
      " [10 11 12]]\n",
      "\n",
      "rowIndex = [0, 0, 1, 2, 3]\n",
      "columnIndex = [0, 2, 0, 1, 2] \n",
      "\n",
      "my2darr[rowIndex,columnIndex] = [ 1  3  4  8 12]\n"
     ]
    }
   ],
   "source": [
    "my2darr = np.arange(1,13,1).reshape(4,3)\n",
    "print('my2darr =\\n', my2darr)\n",
    "\n",
    "indices = [2,1,0,3]    # selected row indices\n",
    "print('indices =', indices, '\\n')\n",
    "print('my2darr[indices,:] =\\n', my2darr[indices,:])  # this will shuffle the rows of my2darr\n",
    "\n",
    "rowIndex = [0,0,1,2,3]     # row index into my2darr\n",
    "print('\\nrowIndex =', rowIndex)\n",
    "columnIndex = [0,2,0,1,2]  # column index into my2darr\n",
    "print('columnIndex =', columnIndex, '\\n')\n",
    "print('my2darr[rowIndex,columnIndex] =', my2darr[rowIndex,columnIndex])"
   ]
  },
  {
   "cell_type": "code",
   "execution_count": 10,
   "id": "3255332f",
   "metadata": {},
   "outputs": [
    {
     "name": "stdout",
     "output_type": "stream",
     "text": [
      "y = [-1.4  0.4 -3.2  2.5  3.4] \n",
      "\n",
      "np.abs(y) = [1.4 0.4 3.2 2.5 3.4]\n",
      "np.sqrt(abs(y)) = [1.18321596 0.63245553 1.78885438 1.58113883 1.84390889]\n",
      "np.sign(y) = [-1.  1. -1.  1.  1.]\n",
      "np.exp(y) = [ 0.24659696  1.4918247   0.0407622  12.18249396 29.96410005]\n",
      "np.sort(y) = [-3.2 -1.4  0.4  2.5  3.4]\n"
     ]
    }
   ],
   "source": [
    "y = np.array([-1.4, 0.4, -3.2, 2.5, 3.4])    \n",
    "print('y =', y, '\\n')\n",
    "\n",
    "print('np.abs(y) =', np.abs(y))                # convert to absolute values\n",
    "print('np.sqrt(abs(y)) =', np.sqrt(abs(y)))    # apply square root to each element\n",
    "print('np.sign(y) =', np.sign(y))              # get the sign of each element\n",
    "print('np.exp(y) =', np.exp(y))                # apply exponentiation\n",
    "print('np.sort(y) =', np.sort(y))              # sort array"
   ]
  },
  {
   "cell_type": "code",
   "execution_count": 11,
   "id": "f26033ae",
   "metadata": {},
   "outputs": [
    {
     "name": "stdout",
     "output_type": "stream",
     "text": [
      "x = [-2 -1  0  1  2]\n",
      "y = [ 0.40235946 -0.79856307 -0.54550781 -1.37567688 -0.32575864] \n",
      "\n",
      "np.add(x,y) = [-1.59764054 -1.79856307 -0.54550781 -0.37567688  1.67424136]\n",
      "np.subtract(x,y) = [-2.40235946 -0.20143693  0.54550781  2.37567688  2.32575864]\n",
      "np.multiply(x,y) = [-0.80471891  0.79856307 -0.         -1.37567688 -0.65151727]\n",
      "np.divide(x,y) = [-4.97067976  1.25224924 -0.         -0.72691488 -6.1395149 ]\n",
      "np.maximum(x,y) = [ 0.40235946 -0.79856307  0.          1.          2.        ]\n"
     ]
    }
   ],
   "source": [
    "x = np.arange(-2,3)\n",
    "y = np.random.randn(5)\n",
    "print('x =', x)\n",
    "print('y =', y, '\\n')\n",
    "\n",
    "print('np.add(x,y) =', np.add(x,y))                # element-wise addition       x + y\n",
    "print('np.subtract(x,y) =', np.subtract(x,y))      # element-wise subtraction    x - y\n",
    "print('np.multiply(x,y) =', np.multiply(x,y))      # element-wise multiplication x * y\n",
    "print('np.divide(x,y) =', np.divide(x,y))          # element-wise division       x / y\n",
    "print('np.maximum(x,y) =', np.maximum(x,y))        # element-wise maximum        max(x,y)"
   ]
  },
  {
   "cell_type": "code",
   "execution_count": 12,
   "id": "943aae2e",
   "metadata": {},
   "outputs": [
    {
     "name": "stdout",
     "output_type": "stream",
     "text": [
      "y = [-3.2 -1.4  0.4  2.5  3.4] \n",
      "\n",
      "Min = -3.2\n",
      "Max = 3.4\n",
      "Average = 0.34000000000000014\n",
      "Std deviation = 2.432776191925595\n",
      "Sum = 1.7000000000000006\n"
     ]
    }
   ],
   "source": [
    "y = np.array([-3.2, -1.4, 0.4, 2.5, 3.4])    \n",
    "print('y =', y, '\\n')\n",
    "\n",
    "print(\"Min =\", np.min(y))             # min \n",
    "print(\"Max =\", np.max(y))             # max \n",
    "print(\"Average =\", np.mean(y))        # mean/average\n",
    "print(\"Std deviation =\", np.std(y))   # standard deviation\n",
    "print(\"Sum =\", np.sum(y))             # sum "
   ]
  },
  {
   "cell_type": "code",
   "execution_count": 13,
   "id": "b09721a3",
   "metadata": {},
   "outputs": [
    {
     "name": "stdout",
     "output_type": "stream",
     "text": [
      "X =\n",
      " [[-0.10841947 -0.59577281  0.03851293]\n",
      " [-1.72598437 -1.33973567 -1.47069437]] \n",
      "\n",
      "Transpose of X, X.T =\n",
      " [[-0.10841947 -1.72598437]\n",
      " [-0.59577281 -1.33973567]\n",
      " [ 0.03851293 -1.47069437]] \n",
      "\n",
      "y = [-1.45469376  0.39753233  0.48558191] \n",
      "\n",
      "Matrix-vector multiplication\n",
      "X.dot(y) =\n",
      " [-0.06042064  1.26404788] \n",
      "\n",
      "Matrix-matrix product\n",
      "X.dot(X.T) = [[0.36818327 0.92866765]\n",
      " [0.92866765 6.93685564]]\n",
      "\n",
      "X.T.dot(X) =\n",
      " [[2.99077684 2.3769562  2.53421995]\n",
      " [2.3769562  2.14983691 1.94739674]\n",
      " [2.53421995 1.94739674 2.16442517]]\n"
     ]
    }
   ],
   "source": [
    "X = np.random.randn(2,3)                         # create a 2 x 3 random matrix\n",
    "print('X =\\n', X, '\\n')\n",
    "print('Transpose of X, X.T =\\n', X.T, '\\n')      # matrix transpose operation X^T\n",
    "\n",
    "y = np.random.randn(3) # random vector \n",
    "print('y =', y, '\\n')\n",
    "\n",
    "print('Matrix-vector multiplication')\n",
    "print('X.dot(y) =\\n', X.dot(y), '\\n')            # matrix-vector multiplication  X * y\n",
    "\n",
    "print('Matrix-matrix product')\n",
    "print('X.dot(X.T) =', X.dot(X.T))        # matrix-matrix multiplication  X * X^T\n",
    "print('\\nX.T.dot(X) =\\n', X.T.dot(X))      # matrix-matrix multiplication  X^T * X"
   ]
  },
  {
   "cell_type": "code",
   "execution_count": 14,
   "id": "1f572095",
   "metadata": {},
   "outputs": [
    {
     "name": "stdout",
     "output_type": "stream",
     "text": [
      "X =\n",
      " [[ 0.61745543 -0.69587863 -1.10802969]\n",
      " [ 0.43993903 -0.56962891 -0.15709282]\n",
      " [ 0.81989724  1.07915254  1.34859515]\n",
      " [ 0.03973966  0.61602322  0.1817617 ]\n",
      " [ 0.80854029 -0.05075367  0.21238007]] \n",
      "\n",
      "C = X.T.dot(X) =\n",
      " [[1.90234568 0.18796232 0.53138021]\n",
      " [0.18796232 2.35535491 2.41706904]\n",
      " [0.53138021 2.41706904 3.14925944]] \n",
      "\n",
      "Inverse of C = np.linalg.inv(C)\n",
      " [[ 0.58273597  0.25613163 -0.29490812]\n",
      " [ 0.25613163  2.11159921 -1.66387827]\n",
      " [-0.29490812 -1.66387827  1.64432848]] \n",
      "\n",
      "Determinant of C = np.linalg.det(C) = 2.703455810722617\n",
      "Eigenvalues of C =\n",
      " [5.28398951 1.84578072 0.27718979]\n",
      "Eigenvectors of C =\n",
      " [[ 0.15425712  0.97985136 -0.12687019]\n",
      " [ 0.63478252 -0.19668502 -0.74723902]\n",
      " [ 0.75713664 -0.03473195  0.65233258]]\n"
     ]
    }
   ],
   "source": [
    "X = np.random.randn(5,3)\n",
    "print('X =\\n', X, '\\n')\n",
    "\n",
    "C = X.T.dot(X)               # C = X^T * X is a square matrix\n",
    "print('C = X.T.dot(X) =\\n', C, '\\n')\n",
    "\n",
    "invC = np.linalg.inv(C)      # inverse of a square matrix\n",
    "print('Inverse of C = np.linalg.inv(C)\\n', invC, '\\n')\n",
    "\n",
    "detC = np.linalg.det(C)      # determinant of a square matrix\n",
    "print('Determinant of C = np.linalg.det(C) =', detC)\n",
    "\n",
    "S, U = np.linalg.eig(C)      # eigenvalue S and eigenvector U of a square matrix\n",
    "print('Eigenvalues of C =\\n', S)\n",
    "print('Eigenvectors of C =\\n', U)"
   ]
  },
  {
   "cell_type": "code",
   "execution_count": 15,
   "id": "f090a963",
   "metadata": {},
   "outputs": [
    {
     "name": "stdout",
     "output_type": "stream",
     "text": [
      "Series, s =\n",
      " 0    3.1\n",
      "1    2.4\n",
      "2   -1.7\n",
      "3    0.2\n",
      "4   -2.9\n",
      "5    4.5\n",
      "dtype: float64 \n",
      "\n",
      "s.values = [ 3.1  2.4 -1.7  0.2 -2.9  4.5]\n",
      "s.index = RangeIndex(start=0, stop=6, step=1)\n",
      "s.dtype = float64\n"
     ]
    }
   ],
   "source": [
    "from pandas import Series\n",
    "\n",
    "s = Series([3.1, 2.4, -1.7, 0.2, -2.9, 4.5])   # creating a series from a list\n",
    "print('Series, s =\\n', s, '\\n')\n",
    "\n",
    "print('s.values =', s.values)     # display values of the Series\n",
    "print('s.index =', s.index)       # display indices of the Series\n",
    "print('s.dtype =', s.dtype)       # display the element type of the Series"
   ]
  },
  {
   "cell_type": "code",
   "execution_count": 16,
   "id": "91b3dc71",
   "metadata": {},
   "outputs": [
    {
     "name": "stdout",
     "output_type": "stream",
     "text": [
      "Series s2 =\n",
      " 0   -1.513467\n",
      "1   -0.648586\n",
      "2   -1.373930\n",
      "3   -0.928484\n",
      "4   -0.759209\n",
      "5   -0.659676\n",
      "dtype: float64 \n",
      "\n",
      "s2.values = [-1.51346695 -0.64858596 -1.37393004 -0.92848423 -0.75920934 -0.65967607]\n",
      "s2.index = RangeIndex(start=0, stop=6, step=1)\n",
      "s2.dtype = float64\n"
     ]
    }
   ],
   "source": [
    "import numpy as np\n",
    "\n",
    "s2 = Series(np.random.randn(6))   # creating a series from a numpy ndarray\n",
    "print('Series s2 =\\n', s2, '\\n')\n",
    "print('s2.values =', s2.values)   # display values of the Series\n",
    "print('s2.index =', s2.index)     # display indices of the Series\n",
    "print('s2.dtype =', s2.dtype)     # display the element type of the Series"
   ]
  },
  {
   "cell_type": "code",
   "execution_count": 17,
   "id": "52aa6732",
   "metadata": {},
   "outputs": [
    {
     "name": "stdout",
     "output_type": "stream",
     "text": [
      "Series s3 =\n",
      " Jan 1    1.2\n",
      "Jan 2    2.5\n",
      "Jan 3   -2.2\n",
      "Jan 4    3.1\n",
      "Jan 5   -0.8\n",
      "Jan 6   -3.2\n",
      "dtype: float64 \n",
      "\n",
      "s3.values = [ 1.2  2.5 -2.2  3.1 -0.8 -3.2]\n",
      "s3.index = Index(['Jan 1', 'Jan 2', 'Jan 3', 'Jan 4', 'Jan 5', 'Jan 6'], dtype='object')\n",
      "s3.dtype = float64\n"
     ]
    }
   ],
   "source": [
    "s3 = Series([1.2,2.5,-2.2,3.1,-0.8,-3.2], \n",
    "            index = ['Jan 1','Jan 2','Jan 3','Jan 4','Jan 5','Jan 6',])\n",
    "print('Series s3 =\\n', s3, '\\n')\n",
    "print('s3.values =', s3.values)   # display values of the Series\n",
    "print('s3.index =', s3.index)     # display indices of the Series\n",
    "print('s3.dtype =', s3.dtype)     # display the element type of the Series"
   ]
  },
  {
   "cell_type": "code",
   "execution_count": 18,
   "id": "8828d18b",
   "metadata": {},
   "outputs": [
    {
     "name": "stdout",
     "output_type": "stream",
     "text": [
      "Series s4 =\n",
      " MI       Lansing\n",
      "CA    Sacramento\n",
      "TX        Austin\n",
      "MN       St Paul\n",
      "dtype: object \n",
      "\n",
      "s4.values = ['Lansing' 'Sacramento' 'Austin' 'St Paul']\n",
      "s4.index= Index(['MI', 'CA', 'TX', 'MN'], dtype='object')\n",
      "s4.dtype = object\n"
     ]
    }
   ],
   "source": [
    "capitals = {'MI': 'Lansing', 'CA': 'Sacramento', 'TX': 'Austin', 'MN': 'St Paul'}\n",
    "\n",
    "s4 = Series(capitals)   # creating a series from dictionary object\n",
    "print('Series s4 =\\n', s4, '\\n')\n",
    "print('s4.values =', s4.values)   # display values of the Series\n",
    "print('s4.index=', s4.index)      # display indices of the Series\n",
    "print('s4.dtype =', s4.dtype)     # display the element type of the Series"
   ]
  },
  {
   "cell_type": "code",
   "execution_count": 19,
   "id": "46407ee8",
   "metadata": {},
   "outputs": [
    {
     "name": "stdout",
     "output_type": "stream",
     "text": [
      "s3 =\n",
      " Jan 1    1.2\n",
      "Jan 2    2.5\n",
      "Jan 3   -2.2\n",
      "Jan 4    3.1\n",
      "Jan 5   -0.8\n",
      "Jan 6   -3.2\n",
      "dtype: float64 \n",
      "\n",
      "s3[2]= -2.2\n",
      "s3['Jan 3']= -2.2\n",
      "\n",
      "s3[1:3]=\n",
      "Jan 2    2.5\n",
      "Jan 3   -2.2\n",
      "dtype: float64\n",
      "\n",
      "s3.iloc([1:3])=\n",
      "Jan 2    2.5\n",
      "Jan 3   -2.2\n",
      "dtype: float64\n"
     ]
    }
   ],
   "source": [
    "s3 = Series([1.2,2.5,-2.2,3.1,-0.8,-3.2], \n",
    "            index = ['Jan 1','Jan 2','Jan 3','Jan 4','Jan 5','Jan 6',])\n",
    "print('s3 =\\n', s3, '\\n')\n",
    "\n",
    "# Accessing elements of a Series\n",
    "\n",
    "print('s3[2]=', s3[2])        # display third element of the Series\n",
    "print('s3[\\'Jan 3\\']=', s3['Jan 3'])   # indexing element of a Series \n",
    "\n",
    "print('\\ns3[1:3]=')             # display a slice of the Series\n",
    "print(s3[1:3])\n",
    "print('\\ns3.iloc([1:3])=')      # display a slice of the Series\n",
    "print(s3.iloc[1:3])"
   ]
  },
  {
   "cell_type": "code",
   "execution_count": 20,
   "id": "a6789757",
   "metadata": {},
   "outputs": [
    {
     "name": "stdout",
     "output_type": "stream",
     "text": [
      "Series s3 =\n",
      " Jan 1    1.2\n",
      "Jan 2    2.5\n",
      "Jan 3   -2.2\n",
      "Jan 4    3.1\n",
      "Jan 5   -0.8\n",
      "Jan 6   -3.2\n",
      "Jan 7    NaN\n",
      "dtype: float64 \n",
      "\n",
      "Shape of s3 = (7,)\n",
      "Size of s3 = 7\n",
      "Count of s3 = 6\n"
     ]
    }
   ],
   "source": [
    "s3['Jan 7'] = np.nan\n",
    "print('Series s3 =\\n', s3, '\\n')\n",
    "\n",
    "print('Shape of s3 =', s3.shape)   # get the dimension of the Series\n",
    "print('Size of s3 =', s3.size)     # get the number of elements of the Series\n",
    "print('Count of s3 =', s3.count()) # get the number of non-null elements of the Series"
   ]
  },
  {
   "cell_type": "code",
   "execution_count": 21,
   "id": "e6140e9e",
   "metadata": {},
   "outputs": [
    {
     "name": "stdout",
     "output_type": "stream",
     "text": [
      "Jan 1    1.2\n",
      "Jan 2    2.5\n",
      "Jan 4    3.1\n",
      "dtype: float64\n"
     ]
    }
   ],
   "source": [
    "print(s3[s3 > 0])   # applying filter to select non-negative elements of the Series"
   ]
  },
  {
   "cell_type": "code",
   "execution_count": 22,
   "id": "94345cd1",
   "metadata": {},
   "outputs": [
    {
     "name": "stdout",
     "output_type": "stream",
     "text": [
      "s3 + 4 =\n",
      " Jan 1    5.2\n",
      "Jan 2    6.5\n",
      "Jan 3    1.8\n",
      "Jan 4    7.1\n",
      "Jan 5    3.2\n",
      "Jan 6    0.8\n",
      "Jan 7    NaN\n",
      "dtype: float64 \n",
      "\n",
      "s3 / 4 =\n",
      " Jan 1    0.300\n",
      "Jan 2    0.625\n",
      "Jan 3   -0.550\n",
      "Jan 4    0.775\n",
      "Jan 5   -0.200\n",
      "Jan 6   -0.800\n",
      "Jan 7      NaN\n",
      "dtype: float64\n"
     ]
    }
   ],
   "source": [
    "print('s3 + 4 =\\n', s3 + 4, '\\n')       \n",
    "print('s3 / 4 =\\n', s3 / 4)                 "
   ]
  },
  {
   "cell_type": "code",
   "execution_count": 23,
   "id": "f3606ae1",
   "metadata": {},
   "outputs": [
    {
     "name": "stdout",
     "output_type": "stream",
     "text": [
      "np.log(s3 + 4) =\n",
      " Jan 1    1.648659\n",
      "Jan 2    1.871802\n",
      "Jan 3    0.587787\n",
      "Jan 4    1.960095\n",
      "Jan 5    1.163151\n",
      "Jan 6   -0.223144\n",
      "Jan 7         NaN\n",
      "dtype: float64 \n",
      "\n",
      "np.exp(s3 - 4) =\n",
      " Jan 1    0.060810\n",
      "Jan 2    0.223130\n",
      "Jan 3    0.002029\n",
      "Jan 4    0.406570\n",
      "Jan 5    0.008230\n",
      "Jan 6    0.000747\n",
      "Jan 7         NaN\n",
      "dtype: float64 \n",
      "\n"
     ]
    }
   ],
   "source": [
    "print('np.log(s3 + 4) =\\n', np.log(s3 + 4), '\\n')    # applying log function to a numeric Series\n",
    "print('np.exp(s3 - 4) =\\n', np.exp(s3 - 4), '\\n')    # applying exponent function to a numeric Series"
   ]
  },
  {
   "cell_type": "code",
   "execution_count": 24,
   "id": "b3de49e3",
   "metadata": {},
   "outputs": [
    {
     "name": "stdout",
     "output_type": "stream",
     "text": [
      "colors =\n",
      " 0       red\n",
      "1      blue\n",
      "2      blue\n",
      "3    yellow\n",
      "4       red\n",
      "5     green\n",
      "6      blue\n",
      "7       NaN\n",
      "dtype: object \n",
      "\n",
      "colors.value_counts() =\n",
      " blue      3\n",
      "red       2\n",
      "yellow    1\n",
      "green     1\n",
      "dtype: int64\n"
     ]
    }
   ],
   "source": [
    "colors = Series(['red', 'blue', 'blue', 'yellow', 'red', 'green', 'blue', np.nan])\n",
    "print('colors =\\n', colors, '\\n')\n",
    "\n",
    "print('colors.value_counts() =\\n', colors.value_counts())"
   ]
  },
  {
   "cell_type": "code",
   "execution_count": 25,
   "id": "0e877c50",
   "metadata": {},
   "outputs": [
    {
     "data": {
      "text/html": [
       "<div>\n",
       "<style scoped>\n",
       "    .dataframe tbody tr th:only-of-type {\n",
       "        vertical-align: middle;\n",
       "    }\n",
       "\n",
       "    .dataframe tbody tr th {\n",
       "        vertical-align: top;\n",
       "    }\n",
       "\n",
       "    .dataframe thead th {\n",
       "        text-align: right;\n",
       "    }\n",
       "</style>\n",
       "<table border=\"1\" class=\"dataframe\">\n",
       "  <thead>\n",
       "    <tr style=\"text-align: right;\">\n",
       "      <th></th>\n",
       "      <th>make</th>\n",
       "      <th>model</th>\n",
       "      <th>MSRP</th>\n",
       "    </tr>\n",
       "  </thead>\n",
       "  <tbody>\n",
       "    <tr>\n",
       "      <th>0</th>\n",
       "      <td>Ford</td>\n",
       "      <td>Taurus</td>\n",
       "      <td>27595</td>\n",
       "    </tr>\n",
       "    <tr>\n",
       "      <th>1</th>\n",
       "      <td>Honda</td>\n",
       "      <td>Accord</td>\n",
       "      <td>23570</td>\n",
       "    </tr>\n",
       "    <tr>\n",
       "      <th>2</th>\n",
       "      <td>Toyota</td>\n",
       "      <td>Camry</td>\n",
       "      <td>23495</td>\n",
       "    </tr>\n",
       "    <tr>\n",
       "      <th>3</th>\n",
       "      <td>Tesla</td>\n",
       "      <td>Model S</td>\n",
       "      <td>68000</td>\n",
       "    </tr>\n",
       "  </tbody>\n",
       "</table>\n",
       "</div>"
      ],
      "text/plain": [
       "     make    model   MSRP\n",
       "0    Ford   Taurus  27595\n",
       "1   Honda   Accord  23570\n",
       "2  Toyota    Camry  23495\n",
       "3   Tesla  Model S  68000"
      ]
     },
     "execution_count": 25,
     "metadata": {},
     "output_type": "execute_result"
    }
   ],
   "source": [
    "from pandas import DataFrame\n",
    "\n",
    "cars = {'make': ['Ford', 'Honda', 'Toyota', 'Tesla'],\n",
    "       'model': ['Taurus', 'Accord', 'Camry', 'Model S'],\n",
    "       'MSRP': [27595, 23570, 23495, 68000]}          \n",
    "carData = DataFrame(cars)            # creating DataFrame from dictionary\n",
    "carData                              # display the table"
   ]
  },
  {
   "cell_type": "code",
   "execution_count": 26,
   "id": "8cde764c",
   "metadata": {},
   "outputs": [
    {
     "name": "stdout",
     "output_type": "stream",
     "text": [
      "carData.index = RangeIndex(start=0, stop=4, step=1)\n",
      "carData.columns = Index(['make', 'model', 'MSRP'], dtype='object')\n"
     ]
    }
   ],
   "source": [
    "print('carData.index =', carData.index)         # print the row indices\n",
    "print('carData.columns =', carData.columns)     # print the column indices"
   ]
  },
  {
   "cell_type": "code",
   "execution_count": 27,
   "id": "8cb0543a",
   "metadata": {},
   "outputs": [
    {
     "data": {
      "text/html": [
       "<div>\n",
       "<style scoped>\n",
       "    .dataframe tbody tr th:only-of-type {\n",
       "        vertical-align: middle;\n",
       "    }\n",
       "\n",
       "    .dataframe tbody tr th {\n",
       "        vertical-align: top;\n",
       "    }\n",
       "\n",
       "    .dataframe thead th {\n",
       "        text-align: right;\n",
       "    }\n",
       "</style>\n",
       "<table border=\"1\" class=\"dataframe\">\n",
       "  <thead>\n",
       "    <tr style=\"text-align: right;\">\n",
       "      <th></th>\n",
       "      <th>make</th>\n",
       "      <th>model</th>\n",
       "      <th>MSRP</th>\n",
       "      <th>year</th>\n",
       "      <th>dealership</th>\n",
       "    </tr>\n",
       "  </thead>\n",
       "  <tbody>\n",
       "    <tr>\n",
       "      <th>1</th>\n",
       "      <td>Ford</td>\n",
       "      <td>Taurus</td>\n",
       "      <td>27595</td>\n",
       "      <td>2018</td>\n",
       "      <td>Courtesy Ford</td>\n",
       "    </tr>\n",
       "    <tr>\n",
       "      <th>2</th>\n",
       "      <td>Honda</td>\n",
       "      <td>Accord</td>\n",
       "      <td>23570</td>\n",
       "      <td>2018</td>\n",
       "      <td>Capital Honda</td>\n",
       "    </tr>\n",
       "    <tr>\n",
       "      <th>3</th>\n",
       "      <td>Toyota</td>\n",
       "      <td>Camry</td>\n",
       "      <td>23495</td>\n",
       "      <td>2018</td>\n",
       "      <td>Spartan Toyota</td>\n",
       "    </tr>\n",
       "    <tr>\n",
       "      <th>4</th>\n",
       "      <td>Tesla</td>\n",
       "      <td>Model S</td>\n",
       "      <td>68000</td>\n",
       "      <td>2018</td>\n",
       "      <td>N/A</td>\n",
       "    </tr>\n",
       "  </tbody>\n",
       "</table>\n",
       "</div>"
      ],
      "text/plain": [
       "     make    model   MSRP  year      dealership\n",
       "1    Ford   Taurus  27595  2018   Courtesy Ford\n",
       "2   Honda   Accord  23570  2018   Capital Honda\n",
       "3  Toyota    Camry  23495  2018  Spartan Toyota\n",
       "4   Tesla  Model S  68000  2018             N/A"
      ]
     },
     "execution_count": 27,
     "metadata": {},
     "output_type": "execute_result"
    }
   ],
   "source": [
    "carData2 = DataFrame(cars, index = [1,2,3,4])  # change the row index\n",
    "carData2['year'] = 2018    # add column with same value\n",
    "carData2['dealership'] = ['Courtesy Ford','Capital Honda','Spartan Toyota','N/A']\n",
    "carData2                   # display table"
   ]
  },
  {
   "cell_type": "code",
   "execution_count": 28,
   "id": "5a538d2d",
   "metadata": {},
   "outputs": [
    {
     "data": {
      "text/html": [
       "<div>\n",
       "<style scoped>\n",
       "    .dataframe tbody tr th:only-of-type {\n",
       "        vertical-align: middle;\n",
       "    }\n",
       "\n",
       "    .dataframe tbody tr th {\n",
       "        vertical-align: top;\n",
       "    }\n",
       "\n",
       "    .dataframe thead th {\n",
       "        text-align: right;\n",
       "    }\n",
       "</style>\n",
       "<table border=\"1\" class=\"dataframe\">\n",
       "  <thead>\n",
       "    <tr style=\"text-align: right;\">\n",
       "      <th></th>\n",
       "      <th>year</th>\n",
       "      <th>temp</th>\n",
       "      <th>precip</th>\n",
       "    </tr>\n",
       "  </thead>\n",
       "  <tbody>\n",
       "    <tr>\n",
       "      <th>0</th>\n",
       "      <td>2011</td>\n",
       "      <td>45.1</td>\n",
       "      <td>32.4</td>\n",
       "    </tr>\n",
       "    <tr>\n",
       "      <th>1</th>\n",
       "      <td>2012</td>\n",
       "      <td>42.4</td>\n",
       "      <td>34.5</td>\n",
       "    </tr>\n",
       "    <tr>\n",
       "      <th>2</th>\n",
       "      <td>2013</td>\n",
       "      <td>47.2</td>\n",
       "      <td>39.2</td>\n",
       "    </tr>\n",
       "    <tr>\n",
       "      <th>3</th>\n",
       "      <td>2014</td>\n",
       "      <td>44.2</td>\n",
       "      <td>31.4</td>\n",
       "    </tr>\n",
       "    <tr>\n",
       "      <th>4</th>\n",
       "      <td>2015</td>\n",
       "      <td>39.9</td>\n",
       "      <td>29.8</td>\n",
       "    </tr>\n",
       "    <tr>\n",
       "      <th>5</th>\n",
       "      <td>2016</td>\n",
       "      <td>41.5</td>\n",
       "      <td>36.7</td>\n",
       "    </tr>\n",
       "  </tbody>\n",
       "</table>\n",
       "</div>"
      ],
      "text/plain": [
       "   year  temp  precip\n",
       "0  2011  45.1    32.4\n",
       "1  2012  42.4    34.5\n",
       "2  2013  47.2    39.2\n",
       "3  2014  44.2    31.4\n",
       "4  2015  39.9    29.8\n",
       "5  2016  41.5    36.7"
      ]
     },
     "execution_count": 28,
     "metadata": {},
     "output_type": "execute_result"
    }
   ],
   "source": [
    "tuplelist = [(2011,45.1,32.4),(2012,42.4,34.5),(2013,47.2,39.2),\n",
    "              (2014,44.2,31.4),(2015,39.9,29.8),(2016,41.5,36.7)]\n",
    "columnNames = ['year','temp','precip']\n",
    "weatherData = DataFrame(tuplelist, columns=columnNames)\n",
    "weatherData"
   ]
  },
  {
   "cell_type": "code",
   "execution_count": 29,
   "id": "0b6edef0",
   "metadata": {},
   "outputs": [
    {
     "data": {
      "text/html": [
       "<div>\n",
       "<style scoped>\n",
       "    .dataframe tbody tr th:only-of-type {\n",
       "        vertical-align: middle;\n",
       "    }\n",
       "\n",
       "    .dataframe tbody tr th {\n",
       "        vertical-align: top;\n",
       "    }\n",
       "\n",
       "    .dataframe thead th {\n",
       "        text-align: right;\n",
       "    }\n",
       "</style>\n",
       "<table border=\"1\" class=\"dataframe\">\n",
       "  <thead>\n",
       "    <tr style=\"text-align: right;\">\n",
       "      <th></th>\n",
       "      <th>x1</th>\n",
       "      <th>x2</th>\n",
       "      <th>x3</th>\n",
       "    </tr>\n",
       "  </thead>\n",
       "  <tbody>\n",
       "    <tr>\n",
       "      <th>0</th>\n",
       "      <td>-1.893970</td>\n",
       "      <td>0.993616</td>\n",
       "      <td>2.046428</td>\n",
       "    </tr>\n",
       "    <tr>\n",
       "      <th>1</th>\n",
       "      <td>0.817800</td>\n",
       "      <td>1.392261</td>\n",
       "      <td>0.518061</td>\n",
       "    </tr>\n",
       "    <tr>\n",
       "      <th>2</th>\n",
       "      <td>-0.085934</td>\n",
       "      <td>0.024937</td>\n",
       "      <td>-1.123828</td>\n",
       "    </tr>\n",
       "    <tr>\n",
       "      <th>3</th>\n",
       "      <td>-0.975187</td>\n",
       "      <td>-0.111832</td>\n",
       "      <td>0.881997</td>\n",
       "    </tr>\n",
       "    <tr>\n",
       "      <th>4</th>\n",
       "      <td>1.382340</td>\n",
       "      <td>0.376212</td>\n",
       "      <td>-0.514129</td>\n",
       "    </tr>\n",
       "  </tbody>\n",
       "</table>\n",
       "</div>"
      ],
      "text/plain": [
       "         x1        x2        x3\n",
       "0 -1.893970  0.993616  2.046428\n",
       "1  0.817800  1.392261  0.518061\n",
       "2 -0.085934  0.024937 -1.123828\n",
       "3 -0.975187 -0.111832  0.881997\n",
       "4  1.382340  0.376212 -0.514129"
      ]
     },
     "execution_count": 29,
     "metadata": {},
     "output_type": "execute_result"
    }
   ],
   "source": [
    "import numpy as np\n",
    "\n",
    "npdata = np.random.randn(5,3)  # create a 5 by 3 random matrix\n",
    "columnNames = ['x1','x2','x3']\n",
    "data = DataFrame(npdata, columns=columnNames)\n",
    "data"
   ]
  },
  {
   "cell_type": "code",
   "execution_count": 30,
   "id": "eabb0d31",
   "metadata": {},
   "outputs": [
    {
     "name": "stdout",
     "output_type": "stream",
     "text": [
      "0    0.993616\n",
      "1    1.392261\n",
      "2    0.024937\n",
      "3   -0.111832\n",
      "4    0.376212\n",
      "Name: x2, dtype: float64\n",
      "<class 'pandas.core.series.Series'>\n"
     ]
    }
   ],
   "source": [
    "# accessing an entire column will return a Series object\n",
    "\n",
    "print(data['x2'])\n",
    "print(type(data['x2']))"
   ]
  },
  {
   "cell_type": "code",
   "execution_count": 31,
   "id": "7bcb74fb",
   "metadata": {},
   "outputs": [
    {
     "name": "stdout",
     "output_type": "stream",
     "text": [
      "Row 3 of data table:\n",
      "x1   -0.085934\n",
      "x2    0.024937\n",
      "x3   -1.123828\n",
      "Name: 2, dtype: float64\n",
      "<class 'pandas.core.series.Series'>\n",
      "\n",
      "Row 3 of car data table:\n",
      "make                  Toyota\n",
      "model                  Camry\n",
      "MSRP                   23495\n",
      "year                    2018\n",
      "dealership    Spartan Toyota\n",
      "Name: 3, dtype: object\n"
     ]
    }
   ],
   "source": [
    "# accessing an entire row will return a Series object\n",
    "\n",
    "print('Row 3 of data table:')\n",
    "print(data.iloc[2])       # returns the 3rd row of DataFrame\n",
    "print(type(data.iloc[2]))\n",
    "\n",
    "print('\\nRow 3 of car data table:')\n",
    "print(carData2.iloc[2])   # row contains objects of different types"
   ]
  },
  {
   "cell_type": "code",
   "execution_count": 32,
   "id": "804f2abe",
   "metadata": {},
   "outputs": [
    {
     "name": "stdout",
     "output_type": "stream",
     "text": [
      "carData2 =\n",
      "      make    model   MSRP  year      dealership\n",
      "1    Ford   Taurus  27595  2018   Courtesy Ford\n",
      "2   Honda   Accord  23570  2018   Capital Honda\n",
      "3  Toyota    Camry  23495  2018  Spartan Toyota\n",
      "4   Tesla  Model S  68000  2018             N/A\n",
      "\n",
      "carData2.iloc[1,2] = 23570\n",
      "carData2.loc[1,'model'] = Taurus\n",
      "\n",
      "carData2.iloc[1:3,1:3]=\n",
      "    model   MSRP\n",
      "2  Accord  23570\n",
      "3   Camry  23495\n"
     ]
    }
   ],
   "source": [
    "# accessing a specific element of the DataFrame\n",
    "\n",
    "print('carData2 =\\n', carData2)\n",
    "\n",
    "print('\\ncarData2.iloc[1,2] =', carData2.iloc[1,2])                # retrieving second row, third column\n",
    "print('carData2.loc[1,\\'model\\'] =', carData2.loc[1,'model'])    # retrieving second row, column named 'model'\n",
    "\n",
    "# accessing a slice of the DataFrame\n",
    "\n",
    "print('\\ncarData2.iloc[1:3,1:3]=')\n",
    "print(carData2.iloc[1:3,1:3])"
   ]
  },
  {
   "cell_type": "code",
   "execution_count": 33,
   "id": "6d5359d5",
   "metadata": {},
   "outputs": [
    {
     "name": "stdout",
     "output_type": "stream",
     "text": [
      "carData2 =\n",
      "      make    model   MSRP  year      dealership\n",
      "1    Ford   Taurus  27595  2018   Courtesy Ford\n",
      "2   Honda   Accord  23570  2018   Capital Honda\n",
      "3  Toyota    Camry  23495  2018  Spartan Toyota\n",
      "4   Tesla  Model S  68000  2018             N/A \n",
      "\n",
      "carData2.shape = (4, 5)\n",
      "carData2.size = 20\n"
     ]
    }
   ],
   "source": [
    "print('carData2 =\\n', carData2, '\\n')\n",
    "\n",
    "print('carData2.shape =', carData2.shape)\n",
    "print('carData2.size =', carData2.size)"
   ]
  },
  {
   "cell_type": "code",
   "execution_count": 34,
   "id": "62723246",
   "metadata": {},
   "outputs": [
    {
     "name": "stdout",
     "output_type": "stream",
     "text": [
      "carData2 =\n",
      "      make    model   MSRP  year      dealership\n",
      "1    Ford   Taurus  27595  2018   Courtesy Ford\n",
      "2   Honda   Accord  23570  2018   Capital Honda\n",
      "3  Toyota    Camry  23495  2018  Spartan Toyota\n",
      "4   Tesla  Model S  68000  2018             N/A \n",
      "\n",
      "carData2[carData2.MSRP > 25000] =\n",
      "    make    model   MSRP  year     dealership\n",
      "1   Ford   Taurus  27595  2018  Courtesy Ford\n",
      "4  Tesla  Model S  68000  2018            N/A\n"
     ]
    }
   ],
   "source": [
    "# selection and filtering\n",
    "\n",
    "print('carData2 =\\n', carData2, '\\n')\n",
    "\n",
    "print('carData2[carData2.MSRP > 25000] =')  \n",
    "print(carData2[carData2.MSRP > 25000])"
   ]
  },
  {
   "cell_type": "code",
   "execution_count": null,
   "id": "66cffff9",
   "metadata": {},
   "outputs": [],
   "source": []
  }
 ],
 "metadata": {
  "kernelspec": {
   "display_name": "Python 3 (ipykernel)",
   "language": "python",
   "name": "python3"
  },
  "language_info": {
   "codemirror_mode": {
    "name": "ipython",
    "version": 3
   },
   "file_extension": ".py",
   "mimetype": "text/x-python",
   "name": "python",
   "nbconvert_exporter": "python",
   "pygments_lexer": "ipython3",
   "version": "3.11.3"
  }
 },
 "nbformat": 4,
 "nbformat_minor": 5
}
